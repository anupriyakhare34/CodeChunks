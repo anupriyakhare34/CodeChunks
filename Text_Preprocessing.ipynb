{
  "nbformat": 4,
  "nbformat_minor": 0,
  "metadata": {
    "colab": {
      "name": "Text_Preprocessing.ipynb",
      "provenance": [],
      "collapsed_sections": []
    },
    "kernelspec": {
      "name": "python3",
      "display_name": "Python 3"
    }
  },
  "cells": [
    {
      "cell_type": "markdown",
      "metadata": {
        "id": "ydNEmF169kNx",
        "colab_type": "text"
      },
      "source": [
        "**Preprocessing of text data in Verbatim column**"
      ]
    },
    {
      "cell_type": "code",
      "metadata": {
        "id": "x61_DhW5IwL0",
        "colab_type": "code",
        "colab": {}
      },
      "source": [
        "#### Take a look at some verbatims\n",
        "for index,text in enumerate(dsat['Q11._Verbatim'][35:40]):\n",
        "  print('Verbatim %d:\\n'%(index+1),text)"
      ],
      "execution_count": 0,
      "outputs": []
    },
    {
      "cell_type": "markdown",
      "metadata": {
        "id": "upUNW7dlKPPu",
        "colab_type": "text"
      },
      "source": [
        "\n",
        "\n",
        "*   **Expand Contractions**\n",
        "\n",
        "\n"
      ]
    },
    {
      "cell_type": "markdown",
      "metadata": {
        "id": "IoB94fbRKZ-s",
        "colab_type": "text"
      },
      "source": [
        "Contractions are the shortened versions of words like don’t for do not and how’ll for how will. These are used to reduce the speaking and writing time of words. We need to expand these contractions for a better analysis of the reviews."
      ]
    },
    {
      "cell_type": "markdown",
      "metadata": {
        "id": "jNdqN54KKc5F",
        "colab_type": "text"
      },
      "source": [
        "We have used a dictionary of common English contractions that we will use for mapping the contractions to their expanded forms."
      ]
    },
    {
      "cell_type": "code",
      "metadata": {
        "id": "_9CHK5PTKjOo",
        "colab_type": "code",
        "colab": {}
      },
      "source": [
        "# Dictionary of English Contractions\n",
        "contractions_dict = { \"ain't\": \"are not\",\"'s\":\" is\",\"aren't\": \"are not\",\n",
        "                     \"can't\": \"cannot\",\"can't've\": \"cannot have\",\n",
        "                     \"'cause\": \"because\",\"could've\": \"could have\",\"couldn't\": \"could not\",\n",
        "                     \"couldn't've\": \"could not have\", \"didn't\": \"did not\",\"doesn't\": \"does not\",\n",
        "                     \"don't\": \"do not\",\"hadn't\": \"had not\",\"hadn't've\": \"had not have\",\n",
        "                     \"hasn't\": \"has not\",\"haven't\": \"have not\",\"he'd\": \"he would\",\n",
        "                     \"he'd've\": \"he would have\",\"he'll\": \"he will\", \"he'll've\": \"he will have\",\n",
        "                     \"how'd\": \"how did\",\"how'd'y\": \"how do you\",\"how'll\": \"how will\",\n",
        "                     \"I'd\": \"I would\", \"I'd've\": \"I would have\",\"I'll\": \"I will\",\n",
        "                     \"I'll've\": \"I will have\",\"I'm\": \"I am\",\"I've\": \"I have\", \"isn't\": \"is not\",\n",
        "                     \"it'd\": \"it would\",\"it'd've\": \"it would have\",\"it'll\": \"it will\",\n",
        "                     \"it'll've\": \"it will have\", \"let's\": \"let us\",\"ma'am\": \"madam\",\n",
        "                     \"mayn't\": \"may not\",\"might've\": \"might have\",\"mightn't\": \"might not\", \n",
        "                     \"mightn't've\": \"might not have\",\"must've\": \"must have\",\"mustn't\": \"must not\",\n",
        "                     \"mustn't've\": \"must not have\", \"needn't\": \"need not\",\n",
        "                     \"needn't've\": \"need not have\",\"o'clock\": \"of the clock\",\"oughtn't\": \"ought not\",\n",
        "                     \"oughtn't've\": \"ought not have\",\"shan't\": \"shall not\",\"sha'n't\": \"shall not\",\n",
        "                     \"shan't've\": \"shall not have\",\"she'd\": \"she would\",\"she'd've\": \"she would have\",\n",
        "                     \"she'll\": \"she will\", \"she'll've\": \"she will have\",\"should've\": \"should have\",\n",
        "                     \"shouldn't\": \"should not\", \"shouldn't've\": \"should not have\",\"so've\": \"so have\",\n",
        "                     \"that'd\": \"that would\",\"that'd've\": \"that would have\", \"there'd\": \"there would\",\n",
        "                     \"there'd've\": \"there would have\", \"they'd\": \"they would\",\n",
        "                     \"they'd've\": \"they would have\",\"they'll\": \"they will\",\n",
        "                     \"they'll've\": \"they will have\", \"they're\": \"they are\",\"they've\": \"they have\",\n",
        "                     \"to've\": \"to have\",\"wasn't\": \"was not\",\"we'd\": \"we would\",\n",
        "                     \"we'd've\": \"we would have\",\"we'll\": \"we will\",\"we'll've\": \"we will have\",\n",
        "                     \"we're\": \"we are\",\"we've\": \"we have\", \"weren't\": \"were not\",\"what'll\": \"what will\",\n",
        "                     \"what'll've\": \"what will have\",\"what're\": \"what are\", \"what've\": \"what have\",\n",
        "                     \"when've\": \"when have\",\"where'd\": \"where did\", \"where've\": \"where have\",\n",
        "                     \"who'll\": \"who will\",\"who'll've\": \"who will have\",\"who've\": \"who have\",\n",
        "                     \"why've\": \"why have\",\"will've\": \"will have\",\"won't\": \"will not\",\n",
        "                     \"won't've\": \"will not have\", \"would've\": \"would have\",\"wouldn't\": \"would not\",\n",
        "                     \"wouldn't've\": \"would not have\",\"y'all\": \"you all\", \"y'all'd\": \"you all would\",\n",
        "                     \"y'all'd've\": \"you all would have\",\"y'all're\": \"you all are\",\n",
        "                     \"y'all've\": \"you all have\", \"you'd\": \"you would\",\"you'd've\": \"you would have\",\n",
        "                     \"you'll\": \"you will\",\"you'll've\": \"you will have\", \"you're\": \"you are\",\n",
        "                     \"you've\": \"you have\"}"
      ],
      "execution_count": 0,
      "outputs": []
    },
    {
      "cell_type": "code",
      "metadata": {
        "id": "ECUONZ4OJ3KJ",
        "colab_type": "code",
        "colab": {}
      },
      "source": [
        "#### Regular expression for finding contractions\n",
        "contractions_re=re.compile('(%s)' % '|'.join(contractions_dict.keys()))"
      ],
      "execution_count": 0,
      "outputs": []
    },
    {
      "cell_type": "code",
      "metadata": {
        "id": "jb8uBryQKnvI",
        "colab_type": "code",
        "colab": {}
      },
      "source": [
        "#### Function for expanding contractions\n",
        "def expand_contractions(text,contractions_dict=contractions_dict):\n",
        "  def replace(match):\n",
        "    return contractions_dict[match.group(0)]\n",
        "  return contractions_re.sub(replace, text)"
      ],
      "execution_count": 0,
      "outputs": []
    },
    {
      "cell_type": "code",
      "metadata": {
        "id": "6VrRsQdjKskK",
        "colab_type": "code",
        "colab": {}
      },
      "source": [
        "#### Expanding Contractions in the reviews\n",
        "dsat['verbatim_processed']=dsat['Q11._Verbatim'].apply(lambda x:expand_contractions(x))"
      ],
      "execution_count": 0,
      "outputs": []
    },
    {
      "cell_type": "markdown",
      "metadata": {
        "id": "YUjfflzyLHbA",
        "colab_type": "text"
      },
      "source": [
        "\n",
        "\n",
        "*   **Remove unwanted elements**\n",
        "\n"
      ]
    },
    {
      "cell_type": "code",
      "metadata": {
        "id": "GPF5oHx7LAUA",
        "colab_type": "code",
        "colab": {}
      },
      "source": [
        "import re\n",
        "def preprocessor(text):\n",
        "  text = re.sub('<[^>]*>', '', text)    #### Remove HTML Elements\n",
        "  emoticons = re.findall('(?::|;|=)(?:-)?(?:\\)|\\(|D|P)', text)    #### Identify Emoticons\n",
        "  text = re.sub('[\\W]+', ' ', text.lower()) +\\\n",
        "  ' '.join(emoticons).replace('-', '')#### Lowercase Reviews\n",
        "  text = re.sub('\\w*\\d\\w*','', text)    #### Remove digits and word containing digits\n",
        "  text = re.sub('[%s]' % re.escape(string.punctuation), '', text)    #### string.punctuations function contains all the punctuations \n",
        "  #### and we use regular expressions to search them in the text and remove them\n",
        "  text = re.sub(' +',' ',text)    #### Remove extra spaces\n",
        "  return text"
      ],
      "execution_count": 0,
      "outputs": []
    },
    {
      "cell_type": "code",
      "metadata": {
        "id": "s-Wjp5lzLQHG",
        "colab_type": "code",
        "colab": {}
      },
      "source": [
        "#### First Verbatim Original\n",
        "dsat.loc[0, 'verbatim_processed']"
      ],
      "execution_count": 0,
      "outputs": []
    },
    {
      "cell_type": "code",
      "metadata": {
        "id": "9fGzCgETLZMr",
        "colab_type": "code",
        "colab": {}
      },
      "source": [
        "#### First Verbatim after adding processor function\n",
        "preprocessor(dsat.loc[0, 'verbatim_processed'])"
      ],
      "execution_count": 0,
      "outputs": []
    },
    {
      "cell_type": "code",
      "metadata": {
        "id": "rgeEh_otLit3",
        "colab_type": "code",
        "colab": {}
      },
      "source": [
        "#### Apply preprocessor function to entire dataset\n",
        "dsat['verbatim_processed'] = dsat['verbatim_processed'].apply(preprocessor)"
      ],
      "execution_count": 0,
      "outputs": []
    },
    {
      "cell_type": "code",
      "metadata": {
        "id": "mgsxZsu0LwQa",
        "colab_type": "code",
        "colab": {}
      },
      "source": [
        "#### Look how our text appears after cleaning\n",
        "for index,text in enumerate(dsat['verbatim_processed'][35:40]):\n",
        "  print('Review %d:\\n'%(index+1),text)"
      ],
      "execution_count": 0,
      "outputs": []
    },
    {
      "cell_type": "markdown",
      "metadata": {
        "id": "J2X1p9hXOEwH",
        "colab_type": "text"
      },
      "source": [
        "\n",
        "  \n",
        "\n",
        "*   **Remove Stopwords**\n",
        "\n",
        "\n",
        "\n"
      ]
    },
    {
      "cell_type": "code",
      "metadata": {
        "id": "ya1-9JJgQQLA",
        "colab_type": "code",
        "colab": {}
      },
      "source": [
        "#### Remove Stopwords\n",
        "import spacy\n",
        "nlp = spacy.load('en_core_web_sm',disable=['parser', 'ner'])"
      ],
      "execution_count": 0,
      "outputs": []
    },
    {
      "cell_type": "code",
      "metadata": {
        "id": "t7MaBT7kQQhV",
        "colab_type": "code",
        "colab": {}
      },
      "source": [
        "dsat['verbatim_processed'] = dsat['verbatim_processed'].apply(lambda x: ' '.join([token.lemma_ for token in list(nlp(x)) if (token.is_stop==False)]))"
      ],
      "execution_count": 0,
      "outputs": []
    },
    {
      "cell_type": "code",
      "metadata": {
        "id": "bAezINkxQa6Z",
        "colab_type": "code",
        "colab": {}
      },
      "source": [
        "#### Look how our text appears after removing stopwords\n",
        "for index,text in enumerate(dsat['verbatim_processed'][35:40]):\n",
        "  print('Review %d:\\n'%(index+1),text)"
      ],
      "execution_count": 0,
      "outputs": []
    },
    {
      "cell_type": "markdown",
      "metadata": {
        "id": "n3Gpu3S8O-M1",
        "colab_type": "text"
      },
      "source": [
        "=> The other_stopwords can be our dictionary of insignicant words generally present in customer verbatim. Feel Free to add more words to this dictionary if you find it."
      ]
    },
    {
      "cell_type": "code",
      "metadata": {
        "id": "-n9eUXw1TtIS",
        "colab_type": "code",
        "colab": {}
      },
      "source": [
        "#### removal of common words which are not significant to analysis\n",
        "#### done by visually analyzing the wordcloud below and adding words to other_stopwords\n",
        "other_stopwords = ['adobe', 'de', 'que', 'und', 'en', 'quot', 'don', 'la', 'chat', 'tell', 'customer', 'representative', 'rep', 'agent', 'da', 'go','able', 'finally', \n",
        "                   'case', 'number','acrobat','pro','dc','creative','cloud', 'company']\n",
        "dsat['verbatim_processed']=dsat['verbatim_processed'].apply(lambda x: \" \".join(word for word in x.split() if word not in other_stopwords))"
      ],
      "execution_count": 0,
      "outputs": []
    },
    {
      "cell_type": "code",
      "metadata": {
        "id": "rKPR0vS4SCR6",
        "colab_type": "code",
        "colab": {}
      },
      "source": [
        "#### Understanding the common words used in customer reviews\n",
        "all_words = ' '.join([text for text in dsat['verbatim_processed']])\n",
        "from wordcloud import WordCloud\n",
        "wordcloud = WordCloud(width=800, height=500, random_state=21, max_font_size=110).generate(all_words)\n",
        "\n",
        "plt.figure(figsize=(10, 7))\n",
        "plt.imshow(wordcloud, interpolation=\"bilinear\")\n",
        "plt.axis('off')\n",
        "plt.show()"
      ],
      "execution_count": 0,
      "outputs": []
    }
  ]
}